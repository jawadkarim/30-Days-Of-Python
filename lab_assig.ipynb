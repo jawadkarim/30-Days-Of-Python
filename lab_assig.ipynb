{
  "nbformat": 4,
  "nbformat_minor": 0,
  "metadata": {
    "colab": {
      "provenance": [],
      "authorship_tag": "ABX9TyO1ci0T5twaPUpynfWILunX"
    },
    "kernelspec": {
      "name": "python3",
      "display_name": "Python 3"
    },
    "language_info": {
      "name": "python"
    }
  },
  "cells": [
    {
      "cell_type": "code",
      "execution_count": 1,
      "metadata": {
        "colab": {
          "base_uri": "https://localhost:8080/"
        },
        "id": "RWXYRZURX1ny",
        "outputId": "bb6045fe-eeb7-495f-be06-b84452f1555a"
      },
      "outputs": [
        {
          "output_type": "stream",
          "name": "stdout",
          "text": [
            "Area of the circle: 78.5\n",
            "Volume of the cube: 1000\n",
            "Density of the object: 2.0\n",
            "Weight of the object: 981.0\n",
            "Perimeter of the rectangle: 30\n",
            "Distance between two points: 7.0710678118654755\n",
            "Force applied on the object: 50\n"
          ]
        }
      ],
      "source": [
        "\n",
        "\n",
        "# Area of a circle\n",
        "radius = 5\n",
        "area_of_circle = 3.14 * radius ** 2\n",
        "print(\"Area of the circle:\", area_of_circle)\n",
        "\n",
        "# Volume of a cube\n",
        "side = 10\n",
        "volume_of_cube = side ** 3\n",
        "print(\"Volume of the cube:\", volume_of_cube)\n",
        "\n",
        "# Density of an object\n",
        "mass = 100\n",
        "volume = 50\n",
        "density = mass / volume\n",
        "print(\"Density of the object:\", density)\n",
        "\n",
        "# Weight of an object\n",
        "gravity = 9.81\n",
        "weight = mass * gravity\n",
        "print(\"Weight of the object:\", weight)\n",
        "\n",
        "# Perimeter of a rectangle\n",
        "length = 10\n",
        "width = 5\n",
        "perimeter_of_rectangle = 2 * (length + width)\n",
        "print(\"Perimeter of the rectangle:\", perimeter_of_rectangle)\n",
        "\n",
        "# Distance between two points\n",
        "x1 = 10\n",
        "y1 = 5\n",
        "x2 = 15\n",
        "y2 = 10\n",
        "distance = ((x2 - x1) ** 2 + (y2 - y1) ** 2) ** 0.5\n",
        "print(\"Distance between two points:\", distance)\n",
        "\n",
        "# Force applied on an object\n",
        "mass = 10\n",
        "acceleration = 5\n",
        "force = mass * acceleration\n",
        "print(\"Force applied on the object:\", force)\n"
      ]
    }
  ]
}